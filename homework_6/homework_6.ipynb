{
 "cells": [
  {
   "cell_type": "code",
   "execution_count": 164,
   "id": "ecc0e660",
   "metadata": {},
   "outputs": [],
   "source": [
    "import re\n",
    "import seaborn as sns"
   ]
  },
  {
   "cell_type": "markdown",
   "id": "530de31b",
   "metadata": {},
   "source": [
    "Распарсите файл **references** при помощи регулярных выражений и запишите оттуда все ftp ссылки в файл ftps"
   ]
  },
  {
   "cell_type": "code",
   "execution_count": 105,
   "id": "6e916ed6",
   "metadata": {},
   "outputs": [],
   "source": [
    "#чтение файла\n",
    "with open(\"references.txt\", \"r\") as f:\n",
    "    \n",
    "    text1 = '\\n'.join(f.readlines())\n",
    "\n",
    "#поиск совпадений\n",
    "res = re.findall(r\"ftp\\.[^;\\s]+\", text1)\n",
    "\n",
    "#запись в файл\n",
    "with open('ftps', 'a') as f:\n",
    "    for i in res:\n",
    "        if i != None:\n",
    "            print(i, file=f)"
   ]
  },
  {
   "cell_type": "markdown",
   "id": "b027b5c4",
   "metadata": {},
   "source": [
    "Извлеките из рассказа  2430 A.D. все числа "
   ]
  },
  {
   "cell_type": "code",
   "execution_count": 107,
   "id": "ac5a4a07",
   "metadata": {},
   "outputs": [
    {
     "name": "stdout",
     "output_type": "stream",
     "text": [
      "2430, 1969, 2430, 2430, 57, 57, 1970, 3, 68, 35, 460, 2430\n"
     ]
    }
   ],
   "source": [
    "#чтение файла\n",
    "with open(\"2430AD.txt\", \"r\") as f:\n",
    "    \n",
    "    text2 = '\\n'.join(f.readlines())\n",
    "\n",
    "#поиск чисел\n",
    "numbers = re.findall(r\"[0-9]+\", text2)\n",
    "print(*numbers, sep=', ')"
   ]
  },
  {
   "cell_type": "markdown",
   "id": "70eb9333",
   "metadata": {},
   "source": [
    "Из того же рассказа извлеките все слова, в которых есть буква a, регистр при этом не важен  (5 баллов)"
   ]
  },
  {
   "cell_type": "code",
   "execution_count": 126,
   "id": "44aec524",
   "metadata": {},
   "outputs": [
    {
     "name": "stdout",
     "output_type": "stream",
     "text": [
      "A, and, dawn, and, all, ache, have, a, nightmare, a, are, all, and, a, gleam, anywhere, an, original, a, personality, packed, talk, said, Alvarez, said, Social, eventually, An, character, escaped, adjustment, talking, irritates, past, tact, along, Trail, was, as, always, sparsely, have, taken, and, Alvarez, walking, Alvarez, was, tall, and, rather, athletic, a, muscular, activities, stairs, and, rampways, instance, almost, an, character, and, avoided, sunlamps, and, was, pale, said, want, can, have, square, space, and, has, apartment, Rather, a, a, way, said, Alvarez, And, a, Alvarez, added, matter, reach, peak, reach, reach, goal, All, mankind, And, said, at, that, way, that, against, plastic, passed, and, saw, distance, was, a, plankton, varieties, almost, that, above, far, above, was, giant, leading, sea, And, another, as, large, far, leading, sea, destination, was, a, back, that, thousands, had, passed, was, about, an, intangible, and, space, wall, was, blank, And, was, air, said, Alvarez, Inhuman, Literally, said, at, easy, signaled, waited, all, around, disregarded, manner, was, always, Cranwitz, was, waiting, same, all, gray, hair, and, uneasily, May, asked, Alvarez, Cranwitz, was, Cranwitz, and, sat, Cranwitz, remained, standing, and, said, Alvarez, said, ask, capacity, as, Representative, as, Representative, are, ready, social, Cranwitz, finally, was, and, had, clear, throat, want, said, have, a, contract, standing, family, has, always, had, all, and, said, irritably, asking, accede, voluntarily, Alvarez, understand, situation, what, was, father, really, what, was, last, year, Cranwitz, jaw, that, rate, has, year, amount, and, has, changed, That, year, year, year, carry, Alvarez, was, year, was, and, said, year, reached, goal, rate, exactly, matches, death, rate, population, exactly, steady, replacement, and, sea, farms, are, a, steady, state, stand, all, mankind, and, Because, a, Because, a, And, creatures, Guinea, Rabbits, and, lizards, haven, taken, a, all, What, harm, What, demanded, Cranwitz, said, at, was, a, Alvarez, had, heard, that, said, as, sympathy, as, and, a, certain, amount, real, sympathy, was, a, ago, vast, care, And, years, that, dinosaurs, have, man, ignorant, can, compare, real, asked, Cranwitz, was, larger, said, Cranwitz, Year, year, had, many, All, large, animals, All, carnivores, small, plants, creatures, Alvarez, said, What, wants, Mankind, against, Social, persuade, against, real, resistance, want, really, are, What, Alvarez, was, insinuating, Cranwitz, sat, A, certain, Someday, reach, Mankind, want, animals, want, start, a, variety, faded, stare, said, What, are, reached, said, Cranwitz, and, established, a, and, abandoned, all, solar, capable, human, Cranwitz, said, are, stars, Earthlike, Alvarez, head, reach, have, finally, Earth, and, human, have, made, and, Earth, margin, a, starship, capable, years, space, Have, wasn, last, said, Cranwitz, was, said, Alvarez, haven, romanticized, madness, was, a, and, was, and, reason, than, half, substance, war, and, preparations, war, ran, wasted, and, at, chance, and, tolerated, deviants, all, dreaded, what, called, population, and, dreamed, reaching, as, a, escape, combination, and, advances, that, changed, case, are, was, establishment, a, and, art, planetary, peace, and, a, placid, humanity, peacefully, and, multiplication, was, advance, exactly, many, Earth, many, calories, reached, Earth, and, that, many, carbon, plants, each, year, and, many, animal, plants, Earth, animal, Cranwitz, finally, And, all, human, Exactly, meant, all, animal, That, way, said, angrily, Alvarez, again, Cranwitz, said, replaced, placoderms, had, replaced, replaced, amphibians, and, replaced, mammals, at, last, has, reached, peak, Earth, bears, population, human, demanded, Cranwitz, vast, all, face, land, plants, and, animals, what, have, And, all, uninhabited, ocean, has, a, plankton, plankton, harvest, and, as, organic, matter, plankton, said, Alvarez, war, are, regulated, deaths, are, peaceful, infants, are, genetically, adjusted, and, Earth, are, normal, brain, largest, conceivable, quantity, conceivable, matter, And, all, that, brain, what, heaved, an, audible, exasperation, Alvarez, calm, said, destination, Perhaps, animals, Earth, was, was, necessary, and, take, chances, was, wasteful, Earth, was, had, and, had, after, mankind, came, had, learn, way, was, learning, had, take, chances, attempt, mad, mankind, has, have, planet, and, Alvarez, paused, that, said, want, Cranwitz, wants, generation, that, has, reached, and, want, having, reached, animals, are, way, Cranwitz, head, take, all, have, what, human, said, human, another, human, brain, what, measure, can, evaluate, human, brain, already, have, said, Alvarez, and, that, and, are, All, Earth, prepared, celebrate, year, AD, year, that, planet, at, last, goal, achieved, all, Shall, fan, a, flaw, a, flaw, Cranwitz, Earth, has, waiting, years, wait, cannot, and, voluntarily, a, said, all, say, that, Cranwitz, acted, and, that, act, was, reached, And, Cranwitz, said, imitating, And, say, that, Alvarez, and, persuaded, said, Alvarez, audible, annoyance, Cranwitz, can, against, Whatever, and, that, way, are, an, idealist, can, that, last, many, Cranwitz, and, Alvarez, hand, waved, and, said, a, remained, Cranwitz, Can, have, day, animals, And, And, stand, mankind, and, And, Alvarez, said, And, and, vast, continental, human, placidly, human, placidly, ate, half, a, carefully, made, talked, heat, ran, machinery, organized, libraries, amused, and, varied, machinery, repaired, plankton, planetary, ocean, basked, and, and, and, and, and, transferred, and, that, And, human, wastes, gathered, and, irradiated, and, and, human, and, treated, and, and, was, back, ocean, And, all, was, as, had, decades, and, millennia, Cranwitz, creatures, a, last, guinea, a, gaze, a, blade, grass, all, last, Earth, that, humans, humans, and, seared, plants, and, cages, and, animals, appropriate, vapors, and, and, last, was, and, mankind, and, was, Cranwitz, departed, Cranwitz, also, vapors, and, want, And, after, that, was, really, all, Earth, all, inhabitants, and, all, human, brain, was, Cranwitz, unusual, idea, universal, placidity, that, meant, that, had, at, last, achieved, A, was, and, had, paid, fears, unallayed, That, had, accepted, was, had, taken, was, GREATEST, ASSET, Campbell, same, again, years, and, Magazine, said, was, handing, that, had, at, a, and, said, necessarily, agree, another, read, and, hadn, about, crazy, about, unable, because, was, ashamed, and, was, great, man, feared, as, jackass, taking, that, had, added, favor, many, many, had, And, case, as, that, years, have, far, than, years, stayed, and, that, population, Earth, estimated, rate, increase, that, population, years, rate, Increase, can, maintained, years, year, A, human, and, equal, total, animal, Earth, that, above\n"
     ]
    }
   ],
   "source": [
    "#поиск слов с буквой а\n",
    "words_a = re.findall(r\"\\w*a\\w*\", text2, re.IGNORECASE)\n",
    "print(*words_a, sep=', ')"
   ]
  },
  {
   "cell_type": "markdown",
   "id": "40ce523a",
   "metadata": {},
   "source": [
    "Извлеките из рассказа все восклицательные предложения"
   ]
  },
  {
   "cell_type": "code",
   "execution_count": 234,
   "id": "0f5bf0c6",
   "metadata": {},
   "outputs": [
    {
     "name": "stdout",
     "output_type": "stream",
     "text": [
      "Yes!\n",
      "Literally!\n",
      "There was once a time!\n",
      "Centuries ago!\n",
      "Think, Cranwitz!\n",
      "If we succeed!\n"
     ]
    }
   ],
   "source": [
    "#поиск восклицательных предложений\n",
    "sentences = re.findall(r\"\\w[^\\.!?\\\"]*[!]\", text2, re.IGNORECASE)\n",
    "print(*sentences, sep='\\n')"
   ]
  },
  {
   "cell_type": "markdown",
   "id": "387e6d63",
   "metadata": {},
   "source": [
    "Постройте гистограмму распределения длин уникальных слов (без учёта регистра, длина от 1) в тексте. "
   ]
  },
  {
   "cell_type": "code",
   "execution_count": 172,
   "id": "c13a5b0a",
   "metadata": {},
   "outputs": [
    {
     "data": {
      "image/png": "[encoded data removed]",
      "text/plain": [
       "<Figure size 432x288 with 1 Axes>"
      ]
     },
     "metadata": {
      "needs_background": "light"
     },
     "output_type": "display_data"
    }
   ],
   "source": [
    "#поиск уникальных слов\n",
    "unique_words = re.findall(r\"(\\b\\w+\\b)(?![\\s\\S]*\\b\\1\\b)\", text2, re.IGNORECASE)\n",
    "\n",
    "#создание вектора с длинами слов\n",
    "l =[len(i) for i in unique_words]\n",
    "\n",
    "#построение графика\n",
    "sns.histplot(l).set(xlabel='Длина слова', ylabel='Количество слов');"
   ]
  },
  {
   "cell_type": "code",
   "execution_count": 191,
   "id": "32d7e839",
   "metadata": {},
   "outputs": [],
   "source": [
    "def translate_to_k(text):\n",
    "    \n",
    "    w = re.sub(r\"([аоуыэяёюиеАОУЫЭЯЁЮИЕ])\", r\"\\1к\\1\", str(text))\n",
    "    \n",
    "    return w"
   ]
  },
  {
   "cell_type": "code",
   "execution_count": 195,
   "id": "14c617bb",
   "metadata": {},
   "outputs": [
    {
     "data": {
      "text/plain": [
       "'ИкИнстикитукут бикиокоикинфокормакатикикики'"
      ]
     },
     "execution_count": 195,
     "metadata": {},
     "output_type": "execute_result"
    }
   ],
   "source": [
    "translate_to_k('Институт биоинформатики')"
   ]
  }
 ],
 "metadata": {
  "kernelspec": {
   "display_name": "Python 3",
   "language": "python",
   "name": "python3"
  },
  "language_info": {
   "codemirror_mode": {
    "name": "ipython",
    "version": 3
   },
   "file_extension": ".py",
   "mimetype": "text/x-python",
   "name": "python",
   "nbconvert_exporter": "python",
   "pygments_lexer": "ipython3",
   "version": "3.7.6"
  }
 },
 "nbformat": 4,
 "nbformat_minor": 5
}
