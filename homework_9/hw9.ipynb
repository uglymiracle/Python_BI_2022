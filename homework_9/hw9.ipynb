{
 "cells": [
  {
   "cell_type": "markdown",
   "id": "7c5a538f-2dbe-445c-9f46-cf0dc18867e4",
   "metadata": {},
   "source": [
    "# Задание 1 (5 баллов)"
   ]
  },
  {
   "cell_type": "markdown",
   "id": "1e8cc3b0-6f60-40da-8058-30d9eb434daf",
   "metadata": {},
   "source": [
    "Напишите классы **Chat**, **Message** и **User**. Они должны соответствовать следующим требованиям:\n",
    "\n",
    "**Chat**:\n",
    "+ Должен иметь атрибут `chat_history`, где будут храниться все сообщения (`Message`) в обратном хронологическом порядке (сначала новые, затем старые)\n",
    "+ Должен иметь метод `show_last_message`, выводящий на экран информацию о последнем сообщении\n",
    "+ Должен иметь метод `get_history_from_time_period`, который принимает два опциональных аргумента (даты с которой и по какую мы ищем сообщения и выдаём их). Метод также должен возвращать объект типа `Chat`\n",
    "+ Должен иметь метод `show_chat`, выводящий на экран все сообщения (каждое сообщение в таком же виде как и `show_last_message`, но с разделителем между ними)\n",
    "+ Должен иметь метод `recieve`, который будет принимать сообщение и добавлять его в чат\n",
    "\n",
    "**Message**:\n",
    "+ Должен иметь три обязательных атрибута\n",
    "    + `text` - текст сообщения\n",
    "    + `datetime` - дата и время сообщения (встроенный модуль datetime вам в помощь). Важно! Это должна быть не дата создания сообщения, а дата его попадания в чат! \n",
    "    + `user` - информация о пользователе, который оставил сообщение (какой тип данных использовать здесь, разберётесь сами)\n",
    "+ Должен иметь метод `show`, который печатает или возвращает информацию о сообщении с необходимой информацией (дата, время, юзер, текст)\n",
    "+ Должен иметь метод `send`, который будет отправлять сообщение в чат\n",
    "\n",
    "**User**:\n",
    "+ Класс с информацией о юзере, наполнение для этого класса придумайте сами\n",
    "\n",
    "Напишите несколько примеров использования кода, которое показывает взаимодействие между объектами.\n",
    "\n",
    "В тексте задания намерено не указано, какие аргументы должны принимать методы, пускай вам в этом поможет здравый смысл)\n",
    "\n",
    "В этом задании не стоит флексить всякими продвинутыми штуками, для этого есть последующие\n",
    "\n",
    "В этом задании можно использовать только модуль `datetime`"
   ]
  },
  {
   "cell_type": "code",
   "execution_count": 19,
   "id": "d14ce6ca-7294-492c-8a01-3f7547680474",
   "metadata": {},
   "outputs": [],
   "source": [
    "import datetime\n",
    "\n",
    "class Chat:\n",
    "    \n",
    "    def __init__(self, chat_history=[]):\n",
    "        self.chat_history = chat_history\n",
    "    \n",
    "    def show_last_message(self):\n",
    "        return self.chat_history[0]\n",
    "    \n",
    "    def show_chat(self):\n",
    "        for sms in self.chat_history[::-1]:\n",
    "            print(sms, end='\\n')\n",
    "    \n",
    "    def recieve(self, sms):\n",
    "        self.chat_history.insert(0, sms)\n",
    "\n",
    "\n",
    "class Message:\n",
    "    \n",
    "    def __init__(self, text, user):\n",
    "        \n",
    "        self.text = text\n",
    "        self.datetime = datetime.datetime.now()\n",
    "        self.user = user\n",
    "        \n",
    "    def show(self):\n",
    "        return f\"{self.datetime} - {self.user.username()}: {self.text}\"\n",
    "    \n",
    "    def send(self, chat):\n",
    "        chat.recieve(self.show())\n",
    "\n",
    "\n",
    "class User:\n",
    "    \n",
    "    def __init__(self, name, surname, age):\n",
    "        \n",
    "        self.name = name\n",
    "        self.surname = surname\n",
    "        self.age = age\n",
    "        \n",
    "    def username(self):\n",
    "        return(self.name+self.surname)"
   ]
  },
  {
   "cell_type": "code",
   "execution_count": 20,
   "id": "07a70a64",
   "metadata": {},
   "outputs": [],
   "source": [
    "telegram = Chat()\n",
    "Kate = User('Kate', 'Petrenko', 22)\n",
    "Valeri = User('Valeri', 'Berngardt', 21)\n",
    "sms = Message('я очень устала делать дз', Kate)"
   ]
  },
  {
   "cell_type": "code",
   "execution_count": 21,
   "id": "359d02bd",
   "metadata": {},
   "outputs": [
    {
     "name": "stdout",
     "output_type": "stream",
     "text": [
      "2023-02-24 04:45:09.265649 - KatePetrenko: я очень устала делать дз\n",
      "2023-02-24 04:45:10.154506 - ValeriBerngardt: если бы ты села делать раньше, тебе было бы легче\n",
      "2023-02-24 04:45:10.154554 - KatePetrenko: мы не можем быть больше друзьями,  прощай!\n"
     ]
    }
   ],
   "source": [
    "sms.send(telegram)\n",
    "Message('если бы ты села делать раньше, тебе было бы легче', Valeri).send(telegram)\n",
    "Message('мы не можем быть больше друзьями,  прощай!', Kate).send(telegram)\n",
    "telegram.show_chat()"
   ]
  },
  {
   "cell_type": "code",
   "execution_count": 22,
   "id": "f0bbec3b",
   "metadata": {},
   "outputs": [
    {
     "data": {
      "text/plain": [
       "'2023-02-24 04:45:10.154554 - KatePetrenko: мы не можем быть больше друзьями,  прощай!'"
      ]
     },
     "execution_count": 22,
     "metadata": {},
     "output_type": "execute_result"
    }
   ],
   "source": [
    "telegram.show_last_message()"
   ]
  },
  {
   "cell_type": "markdown",
   "id": "a59aa1b3-4c93-480e-a09f-e57df34eb60a",
   "metadata": {},
   "source": [
    "# Задание 2 (3 балла)"
   ]
  },
  {
   "cell_type": "markdown",
   "id": "ab07eb69-877f-4c38-8c7d-88beae20071b",
   "metadata": {},
   "source": [
    "В питоне как-то слишком типично и неинтересно происходят вызовы функций. Напишите класс `Args`, который будет хранить в себе аргументы, а функции можно будет вызывать при помощи следующего синтаксиса.\n",
    "\n",
    "Использовать любые модули **нельзя**, да и вряд-ли это как-то поможет)"
   ]
  },
  {
   "cell_type": "code",
   "execution_count": 149,
   "id": "d73d6b31-c15a-4ae6-ad9b-b3fdab88efed",
   "metadata": {},
   "outputs": [],
   "source": [
    "class Args:\n",
    "    \n",
    "    def __init__(self, *args, **kwargs):\n",
    "        self._args = args\n",
    "        self._kwargs = kwargs \n",
    "        \n",
    "    def __rlshift__(self, other):\n",
    "        return other(*self._args, **self._kwargs)"
   ]
  },
  {
   "cell_type": "code",
   "execution_count": 150,
   "id": "55afedbb-4725-4078-bd98-bf803be0bf93",
   "metadata": {},
   "outputs": [
    {
     "data": {
      "text/plain": [
       "3"
      ]
     },
     "execution_count": 150,
     "metadata": {},
     "output_type": "execute_result"
    }
   ],
   "source": [
    "sum << Args([1, 2])"
   ]
  },
  {
   "cell_type": "code",
   "execution_count": 151,
   "id": "c37f0728-9bdc-469e-a5b8-3ab5aa43a731",
   "metadata": {},
   "outputs": [
    {
     "data": {
      "text/plain": [
       "53"
      ]
     },
     "execution_count": 151,
     "metadata": {},
     "output_type": "execute_result"
    }
   ],
   "source": [
    "(lambda a, b, c: a**2 + b + c) << Args(1, 2, c=50)"
   ]
  },
  {
   "cell_type": "markdown",
   "id": "d6915eaf-92fe-460b-bf9b-06ccf55b093f",
   "metadata": {},
   "source": [
    "# Задание 3 (5 баллов)"
   ]
  },
  {
   "cell_type": "markdown",
   "id": "5a588ef8-8af6-42b6-972b-3c716a604c34",
   "metadata": {},
   "source": [
    "Сделайте класс наследник `float`. Он должен вести себя как `float`, но также должен обладать некоторыми особенностями:\n",
    "+ При получении атрибутов формата `<действие>_<число>` мы получаем результат такого действия над нашим числом\n",
    "+ Создавать данные атрибуты в явном виде, очевидно, не стоит\n",
    "\n",
    "Подсказка: если в процессе гуглёжки, вы выйдете на такую тему как **\"Дескрипторы\", то это НЕ то, что вам сейчас нужно**\n",
    "\n",
    "Примеры использования ниже"
   ]
  },
  {
   "cell_type": "code",
   "execution_count": 152,
   "id": "61cb63a2-90ac-4b79-97a5-bb0496262e32",
   "metadata": {},
   "outputs": [],
   "source": [
    "class StrangeFloat(float):\n",
    "    \n",
    "    def __getattr__(self, fun):\n",
    "        \n",
    "        action, number = fun.split('_')\n",
    "        \n",
    "        if action == 'add':\n",
    "            return StrangeFloat(self + float(number))\n",
    "        elif action == 'subtract':\n",
    "            return StrangeFloat(self - float(number))\n",
    "        elif action == 'multiply':\n",
    "            return StrangeFloat(self * float(number))\n",
    "        elif action == 'divide':\n",
    "            return StrangeFloat(self / float(number))\n",
    "        else:\n",
    "            raise AttributeError"
   ]
  },
  {
   "cell_type": "code",
   "execution_count": 153,
   "id": "f730c9c0-7d90-4037-97c6-e926dcbc1ea3",
   "metadata": {},
   "outputs": [],
   "source": [
    "number = StrangeFloat(3.5)"
   ]
  },
  {
   "cell_type": "code",
   "execution_count": 154,
   "id": "b2756368-a489-486d-a0f1-244697f8503c",
   "metadata": {},
   "outputs": [
    {
     "data": {
      "text/plain": [
       "4.5"
      ]
     },
     "execution_count": 154,
     "metadata": {},
     "output_type": "execute_result"
    }
   ],
   "source": [
    "number.add_1"
   ]
  },
  {
   "cell_type": "code",
   "execution_count": 155,
   "id": "c6799592-3cb6-4c7d-af62-9c0a48a76c1d",
   "metadata": {},
   "outputs": [
    {
     "data": {
      "text/plain": [
       "-16.5"
      ]
     },
     "execution_count": 155,
     "metadata": {},
     "output_type": "execute_result"
    }
   ],
   "source": [
    "number.subtract_20"
   ]
  },
  {
   "cell_type": "code",
   "execution_count": 156,
   "id": "130027b5-017a-4c70-b072-1fdc6acf670f",
   "metadata": {},
   "outputs": [
    {
     "data": {
      "text/plain": [
       "17.5"
      ]
     },
     "execution_count": 156,
     "metadata": {},
     "output_type": "execute_result"
    }
   ],
   "source": [
    "number.multiply_5"
   ]
  },
  {
   "cell_type": "code",
   "execution_count": 157,
   "id": "2b901e5c-5a51-4788-b15b-9b20a074e1a4",
   "metadata": {},
   "outputs": [
    {
     "data": {
      "text/plain": [
       "0.14"
      ]
     },
     "execution_count": 157,
     "metadata": {},
     "output_type": "execute_result"
    }
   ],
   "source": [
    "number.divide_25"
   ]
  },
  {
   "cell_type": "code",
   "execution_count": 158,
   "id": "ea52c492-b0ce-4d73-8aba-a0ea51ed0b60",
   "metadata": {},
   "outputs": [
    {
     "data": {
      "text/plain": [
       "-4.125"
      ]
     },
     "execution_count": 158,
     "metadata": {},
     "output_type": "execute_result"
    }
   ],
   "source": [
    "number.add_1.add_2.multiply_6.divide_8.subtract_9"
   ]
  },
  {
   "cell_type": "code",
   "execution_count": 159,
   "id": "e26ef411-a5df-46c7-bb9d-e77a1fad3cec",
   "metadata": {},
   "outputs": [
    {
     "data": {
      "text/plain": [
       "1.0"
      ]
     },
     "execution_count": 159,
     "metadata": {},
     "output_type": "execute_result"
    }
   ],
   "source": [
    "getattr(number, \"add_-2.5\")   # Используем getattr, так как не можем написать number.add_-2.5 - это SyntaxError"
   ]
  },
  {
   "cell_type": "code",
   "execution_count": 160,
   "id": "7a57bb29-1105-4df1-a4c4-5fbf62eef11d",
   "metadata": {},
   "outputs": [
    {
     "data": {
      "text/plain": [
       "11.5"
      ]
     },
     "execution_count": 160,
     "metadata": {},
     "output_type": "execute_result"
    }
   ],
   "source": [
    "number + 8   # Стандартные для float операции работают также"
   ]
  },
  {
   "cell_type": "code",
   "execution_count": 161,
   "id": "f0246b31-c55a-4bb8-ac15-46509bd8b340",
   "metadata": {},
   "outputs": [
    {
     "data": {
      "text/plain": [
       "(7, 2)"
      ]
     },
     "execution_count": 161,
     "metadata": {},
     "output_type": "execute_result"
    }
   ],
   "source": [
    "number.as_integer_ratio()   # Стандартные для float операции работают также  (это встроенный метод float, писать его НЕ НАДО)"
   ]
  },
  {
   "cell_type": "markdown",
   "id": "3635bceb-723c-4b2f-82e3-269bd914c46c",
   "metadata": {},
   "source": [
    "# Задание 4 (3 балла)"
   ]
  },
  {
   "cell_type": "markdown",
   "id": "31d35f82-1e20-4bf5-b896-7b8163f8386f",
   "metadata": {},
   "source": [
    "В данном задании мы немного отдохнём и повеселимся. От вас требуется заменить в данном коде максимально возможное количество синтаксических конструкций на вызовы dunder методов, dunder атрибутов и dunder переменных.\n",
    "\n",
    "Маленькая заметка: полностью всё заменить невозможно. Например, `function()` можно записать как `function.__call__()`, но при этом мы всё ещё не избавляемся от скобочек, так что можно делать так до бесконечности `function.__call__.__call__.__call__.__call__.....__call__()` и при всём при этом мы ещё не избавляемся от `.` для доступа к атрибутам. В общем, замените всё, что получится, не закапываясь в повторы, как в приведённом примере. Чем больше разных методов вы найдёте и используете, тем лучше и тем выше будет балл\n",
    "\n",
    "Код по итогу дожен работать и печатать число **4420.0**, как в примере. Структуру кода менять нельзя, просто изменяем конструкции на синонимичные\n",
    "\n",
    "И ещё маленькая подсказка. Заменить здесь можно всё кроме:\n",
    "+ Конструкции `for ... in ...`:\n",
    "+ Синтаксиса создания лямбда функции\n",
    "+ Оператора присваивания `=`\n",
    "+ Конструкции `if-else`"
   ]
  },
  {
   "cell_type": "code",
   "execution_count": 162,
   "id": "a87cff2a-7168-470d-b38f-1cb5a60ac0c4",
   "metadata": {},
   "outputs": [
    {
     "name": "stdout",
     "output_type": "stream",
     "text": [
      "4420.0\n"
     ]
    }
   ],
   "source": [
    "import numpy as np\n",
    "\n",
    "\n",
    "matrix = []\n",
    "for idx in range(0, 100, 10):\n",
    "    matrix += [list(range(idx, idx + 10))]\n",
    "    \n",
    "selected_columns_indices = list(filter(lambda x: x in range(1, 5, 2), range(len(matrix))))\n",
    "selected_columns = map(lambda x: [x[col] for col in selected_columns_indices], matrix)\n",
    "\n",
    "arr = np.array(list(selected_columns))\n",
    "\n",
    "mask = arr[:, 1] % 3 == 0\n",
    "new_arr = arr[mask]\n",
    "\n",
    "product = new_arr @ new_arr.T\n",
    "\n",
    "if (product[0] < 1000).all() and (product[2] > 1000).any():\n",
    "    print(product.mean())"
   ]
  },
  {
   "cell_type": "code",
   "execution_count": 163,
   "id": "9e29cc00-c8db-4cc4-a93b-2908352d9344",
   "metadata": {},
   "outputs": [
    {
     "name": "stdout",
     "output_type": "stream",
     "text": [
      "4420.0\n"
     ]
    }
   ],
   "source": [
    "# Ваш код здесь\n",
    "import numpy as np\n",
    "\n",
    "\n",
    "matrix = []\n",
    "for idx in range(0, 100, 10):\n",
    "    matrix.__iadd__([list(range(idx, idx.__add__(10)))])\n",
    "    \n",
    "selected_columns_indices = list(filter(lambda x: x in range(1, 5, 2), range(matrix.__len__())))\n",
    "selected_columns = map(lambda x: [x[col] for col in selected_columns_indices], matrix)\n",
    "\n",
    "arr = np.array(list(selected_columns))\n",
    "\n",
    "mask = arr.__getitem__((slice.__call__(None), 1)).__mod__(3).__eq__(0)\n",
    "new_arr = arr.__getitem__(mask)\n",
    "\n",
    "product = new_arr.__matmul__(new_arr.T)\n",
    "\n",
    "if (product[0].__lt__(1000)).all() and (product[2].__gt__(1000)).any():\n",
    "    print(product.mean())"
   ]
  },
  {
   "cell_type": "markdown",
   "id": "e90e5938-cabe-4ee1-9a88-73f25b3b67c3",
   "metadata": {},
   "source": [
    "# Задание 5 (10 баллов)"
   ]
  },
  {
   "cell_type": "markdown",
   "id": "0e58f6a8-7bb8-45f0-b14d-3bcd1f1ba5a9",
   "metadata": {},
   "source": [
    "Напишите абстрактный класс `BiologicalSequence`, который задаёт следующий интерфейс:\n",
    "+ Работа с функцией `len`\n",
    "+ Возможность получать элементы по индексу и делать срезы последовательности (аналогично строкам)\n",
    "+ Вывод на печать в удобном виде и возможность конвертации в строку\n",
    "+ Возможность проверить алфавит последовательности на корректность\n",
    "\n",
    "Напишите класс `NucleicAcidSequence`:\n",
    "+ Данный класс реализует интерфейс `BiologicalSequence`\n",
    "+ Данный класс имеет новый метод `complement`, возвращающий комплементарную последовательность\n",
    "+ Данный класс имеет новый метод `gc_content`, возвращающий GC-состав (без разницы, в процентах или в долях)\n",
    "\n",
    "Напишите классы наследники `NucleicAcidSequence`: `DNASequence` и `RNASequence`\n",
    "+ `DNASequence` должен иметь метод `transcribe`, возвращающий транскрибированную РНК-последовательность\n",
    "+ Данные классы не должны иметь <ins>публичных методов</ins> `complement` и метода для проверки алфавита, так как они уже должны быть реализованы в `NucleicAcidSequence`.\n",
    "\n",
    "Напишите класс `AminoAcidSequence`:\n",
    "+ Данный класс реализует интерфейс `BiologicalSequence`\n",
    "+ Добавьте этому классу один любой метод, подходящий по смыслу к аминокислотной последовательности. Например, метод для нахождения изоэлектрической точки, молекулярного веса и т.д.\n",
    "\n",
    "Комментарий по поводу метода `NucleicAcidSequence.complement`, так как я хочу, чтобы вы сделали его опредедённым образом:\n",
    "\n",
    "При вызове `dna.complement()` или условного `dna.check_alphabet()` должны будут вызываться соответствующие методы из `NucleicAcidSequence`. При этом, данный метод должен обладать свойством полиморфизма, иначе говоря, внутри `complement` не надо делать условия а-ля `if seuqence_type == \"DNA\": return self.complement_dna()`, это крайне не гибко. Данный метод должен опираться на какой-то общий интерфейс между ДНК и РНК. Создание экземпляров `NucleicAcidSequence` не подразумевается, поэтому код `NucleicAcidSequence(\"ATGC\").complement()` не обязан работать, а в идеале должен кидать исключение `NotImplementedError` при вызове от экземпляра `NucleicAcidSequence`\n",
    "\n",
    "Вся сложность задания в том, чтобы правильно организовать код. Если у вас есть повторяющийся код в сестринских классах или родительском и дочернем, значит вы что-то делаете не так.\n",
    "\n",
    "\n",
    "Маленькое замечание: По-хорошему, между классом `BiologicalSequence` и классами `NucleicAcidSequence` и `AminoAcidSequence`, ещё должен быть класс-прослойка, частично реализующий интерфейс `BiologicalSequence`, но его писать не обязательно, так как задание и так довольно большое (правда из-за этого у вас неминуемо возникнет повторяющийся код в классах `NucleicAcidSequence` и `AminoAcidSequence`)"
   ]
  },
  {
   "cell_type": "code",
   "execution_count": 145,
   "id": "f17d5d3f-9982-4271-a987-3af7bc071c42",
   "metadata": {},
   "outputs": [],
   "source": [
    "from abc import ABC, abstractmethod\n",
    "\n",
    "class BiologicalSequence(ABC):\n",
    "    \n",
    "    @abstractmethod\n",
    "    def __len__(self):\n",
    "        pass\n",
    "\n",
    "    @abstractmethod\n",
    "    def __getitem__(self, index):\n",
    "        pass\n",
    "\n",
    "    @abstractmethod\n",
    "    def __str__(self):\n",
    "        pass\n",
    "\n",
    "    @abstractmethod\n",
    "    def check_seq(self):\n",
    "         pass\n",
    "        \n",
    "        \n",
    "class NucleicAcidSequence(BiologicalSequence):\n",
    "    \n",
    "    nucleotides_compl = {'a' : 't',\n",
    "                         't' : 'a',\n",
    "                         'g' : 'c',\n",
    "                         'c' : 'g',\n",
    "                         'u' : 'a'}\n",
    "    nucls = 'agcut'\n",
    "    \n",
    "    def __init__(self, seq):\n",
    "        self.seq = seq.lower()\n",
    "    \n",
    "    def __len__(self):\n",
    "        return len(self.seq)\n",
    "\n",
    "    def __getitem__(self, index):\n",
    "        return self.seq[index]\n",
    "\n",
    "    def __str__(self):\n",
    "        return str(self.seq)\n",
    "\n",
    "    def check_seq(self):\n",
    "         \n",
    "        if set(self.seq) <= set(self.nucls):\n",
    "            return True\n",
    "        \n",
    "        else:\n",
    "            return False\n",
    "        \n",
    "    def complement(self):\n",
    "        \n",
    "        if type(self) == NucleicAcidSequence:\n",
    "            raise NotImplementedError\n",
    "            \n",
    "        elif self.check_seq():\n",
    "            return ''.join([self.nucleotides_compl[nucl] for nucl in self.seq])\n",
    "        \n",
    "        else:\n",
    "            raise KeyError('Check your sequence')\n",
    "    \n",
    "    def gc_content(self):\n",
    "        return (self.seq.count('g') + self.seq.count('c')) / len(self.seq) * 100\n",
    "        \n",
    "\n",
    "class DNASequence(NucleicAcidSequence):\n",
    "    \n",
    "    nucleotides_compl = {'a' : 't',\n",
    "                  't' : 'a',\n",
    "                  'g' : 'c',\n",
    "                  'c' : 'g'}\n",
    "    \n",
    "    nucls = 'agct'\n",
    "    \n",
    "    def transcribe(self):\n",
    "        \n",
    "        nucleotides_transcr = {'a' : 'u',\n",
    "                             't' : 'a',\n",
    "                             'g' : 'c',\n",
    "                             'c' : 'g'}\n",
    "        \n",
    "        if self.check_seq():\n",
    "            return ''.join([nucleotides_transcr[nucl] for nucl in self.seq])\n",
    "        \n",
    "        else:\n",
    "            raise KeyError('Check your sequence')\n",
    "    \n",
    "                          \n",
    "class RNASequence(NucleicAcidSequence):\n",
    "    \n",
    "    nucleotides_compl = {'a' : 'u',\n",
    "                  'u' : 'a',\n",
    "                  'g' : 'c',\n",
    "                  'c' : 'g'}\n",
    "                          \n",
    "    nucls = 'agcu'\n",
    "    \n",
    "class AminoAcidSequence(BiologicalSequence):\n",
    "    \n",
    "    aminoacid = 'ARNDCEQGHILKMFPSTWYV'\n",
    "    def __init__(self, seq):\n",
    "        self.seq = seq\n",
    "        \n",
    "    def __len__(self):\n",
    "        return len(self.seq)\n",
    "\n",
    "    def __getitem__(self, index):\n",
    "        return self.seq[index]\n",
    "\n",
    "    def __str__(self):\n",
    "        return str(self.seq)\n",
    "\n",
    "    def check_seq(self):\n",
    "         \n",
    "        if set(self.seq) <= set(self.aminoacid):\n",
    "            return True\n",
    "        \n",
    "        else:\n",
    "            return False\n",
    "    \n",
    "    def protein_weight(self):\n",
    "        \n",
    "        weights = {'A': 89, 'R': 174, 'N': 132, 'D': 133, 'C': 121,\n",
    "                   'E': 147, 'Q': 146, 'G': 75, 'H': 155, 'I': 131,\n",
    "                   'L': 131, 'K': 146, 'M': 149, 'F': 165, 'P': 115,\n",
    "                   'S': 105, 'T': 119, 'W': 204, 'Y': 181, 'V': 117}\n",
    "        \n",
    "        if self.check_seq():\n",
    "            return sum([weights[a] for a in self.seq])\n",
    "        \n",
    "        else:\n",
    "            raise KeyError('Check your sequence')   "
   ]
  }
 ],
 "metadata": {
  "kernelspec": {
   "display_name": "Python 3",
   "language": "python",
   "name": "python3"
  },
  "language_info": {
   "codemirror_mode": {
    "name": "ipython",
    "version": 3
   },
   "file_extension": ".py",
   "mimetype": "text/x-python",
   "name": "python",
   "nbconvert_exporter": "python",
   "pygments_lexer": "ipython3",
   "version": "3.7.6"
  }
 },
 "nbformat": 4,
 "nbformat_minor": 5
}
